{
 "cells": [
  {
   "cell_type": "code",
   "execution_count": null,
   "metadata": {},
   "outputs": [],
   "source": [
    "from dt_logic import FSM, FSMState, FSMEvent\n",
    "from PIL import Image\n",
    "from IPython.display import display, clear_output\n",
    "import ipywidgets as widgets"
   ]
  },
  {
   "cell_type": "code",
   "execution_count": null,
   "metadata": {
    "pycharm": {
     "name": "#%%\n"
    }
   },
   "outputs": [],
   "source": [
    "def cb_ia(a: int):\n",
    "    b = 10\n",
    "    print(a + b)"
   ]
  },
  {
   "cell_type": "code",
   "execution_count": null,
   "metadata": {
    "pycharm": {
     "name": "#%%\n"
    }
   },
   "outputs": [],
   "source": [
    "states = {\n",
    "    \"a\": FSMState(\"a\", entry_actions=cb_ia, entry_kwargs={'a': 15}, exit_actions=print, exit_args=[\"a\", \">\"]),\n",
    "    \"b\": FSMState(\"b\", entry_actions=print, entry_args=[\"> b\"], exit_actions=print, exit_args=[\"b >\"]),\n",
    "    \"c\": FSMState(\"c\", entry_actions=print, entry_args=[\"> c\"], exit_actions=print, exit_args=[\"c >\"]),\n",
    "}"
   ]
  },
  {
   "cell_type": "code",
   "execution_count": null,
   "metadata": {
    "pycharm": {
     "name": "#%%\n"
    }
   },
   "outputs": [],
   "source": [
    "events = {\n",
    "    \"e0\": FSMEvent(\"e0\"),\n",
    "    \"e1\": FSMEvent(\"e1\"),\n",
    "    \"e2\": FSMEvent(\"e2\"),\n",
    "}\n",
    "transitions = {\n",
    "    events[\"e0\"]: [(states[\"a\"], states[\"b\"])],\n",
    "    events[\"e1\"]: [(states[\"b\"], states[\"c\"]), (states[\"a\"], states[\"a\"])],\n",
    "    events[\"e2\"]: [(states[\"b\"], states[\"b\"]), (states[\"c\"], states[\"c\"])],\n",
    "}"
   ]
  },
  {
   "cell_type": "code",
   "execution_count": null,
   "metadata": {
    "pycharm": {
     "name": "#%%\n"
    }
   },
   "outputs": [],
   "source": [
    "fsm = FSM(\n",
    "    states=list(states.values()),\n",
    "    transitions=transitions,\n",
    "    initial_state=states[\"a\"],\n",
    ")"
   ]
  },
  {
   "cell_type": "code",
   "execution_count": null,
   "metadata": {
    "pycharm": {
     "name": "#%%\n"
    }
   },
   "outputs": [],
   "source": [
    "_, vis = fsm.fire_event(events[\"e1\"], viz=True)  # a -> a"
   ]
  },
  {
   "cell_type": "code",
   "execution_count": null,
   "metadata": {
    "pycharm": {
     "name": "#%%\n"
    }
   },
   "outputs": [],
   "source": [
    "img = Image.fromarray(vis, 'RGB')\n",
    "display(img)"
   ]
  },
  {
   "cell_type": "code",
   "execution_count": null,
   "metadata": {},
   "outputs": [],
   "source": [
    "print(fsm.edges)"
   ]
  },
  {
   "cell_type": "code",
   "execution_count": null,
   "metadata": {
    "pycharm": {
     "name": "#%%\n"
    }
   },
   "outputs": [],
   "source": [
    "lst_btn = []\n",
    "for e in [\"e0\", \"e1\", \"e2\"]:\n",
    "    lst_btn.append(widgets.Button(\n",
    "        description=e,\n",
    "        disabled=False,\n",
    "        button_style=\"\",\n",
    "        tooltip=\"Click to emit event\",\n",
    "        icon=\"check\",\n",
    "    ))\n",
    "\n",
    "output = widgets.Output()\n",
    "    \n",
    "def cb_e(b):\n",
    "    global output\n",
    "    \n",
    "    e = b.description\n",
    "    _, vis = fsm.fire_event(events[e], viz=True)\n",
    "    img = Image.fromarray(vis, 'RGB')\n",
    "    with output:\n",
    "        clear_output()\n",
    "        print(\"Event fired:\", events[e])\n",
    "        display(img)\n",
    "\n",
    "for btn in lst_btn:\n",
    "    btn.on_click(cb_e)\n",
    "    display(btn)\n",
    "    \n",
    "display(output)"
   ]
  }
 ],
 "metadata": {
  "kernelspec": {
   "display_name": "Python 3 (ipykernel)",
   "language": "python",
   "name": "python3"
  },
  "language_info": {
   "codemirror_mode": {
    "name": "ipython",
    "version": 3
   },
   "file_extension": ".py",
   "mimetype": "text/x-python",
   "name": "python",
   "nbconvert_exporter": "python",
   "pygments_lexer": "ipython3",
   "version": "3.8.10"
  }
 },
 "nbformat": 4,
 "nbformat_minor": 1
}
